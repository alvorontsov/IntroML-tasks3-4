{
 "cells": [
  {
   "cell_type": "code",
   "execution_count": 1,
   "metadata": {},
   "outputs": [
    {
     "name": "stderr",
     "output_type": "stream",
     "text": [
      "C:\\Users\\alkor\\AppData\\Local\\conda\\conda\\envs\\py36\\lib\\site-packages\\h5py\\__init__.py:36: FutureWarning: Conversion of the second argument of issubdtype from `float` to `np.floating` is deprecated. In future, it will be treated as `np.float64 == np.dtype(float).type`.\n",
      "  from ._conv import register_converters as _register_converters\n"
     ]
    },
    {
     "name": "stdout",
     "output_type": "stream",
     "text": [
      "1.6.0\n"
     ]
    }
   ],
   "source": [
    "import numpy as np\n",
    "import tensorflow as tf\n",
    "\n",
    "print(tf.__version__)\n",
    "\n",
    "#config = tf.ConfigProto(intra_op_parallelism_threads=3, inter_op_parallelism_threads=3, \\\n",
    "#                        allow_soft_placement=True, device_count = {'CPU': 1})\n",
    "#session = tf.Session(config=config)\n",
    "session = tf.InteractiveSession()\n"
   ]
  },
  {
   "cell_type": "code",
   "execution_count": 2,
   "metadata": {},
   "outputs": [
    {
     "name": "stdout",
     "output_type": "stream",
     "text": [
      "Extracting MNIST_data\\train-images-idx3-ubyte.gz\n",
      "Extracting MNIST_data\\train-labels-idx1-ubyte.gz\n",
      "Extracting MNIST_data\\t10k-images-idx3-ubyte.gz\n",
      "Extracting MNIST_data\\t10k-labels-idx1-ubyte.gz\n",
      "(55000, 28, 28)\n",
      "(55000, 10)\n",
      "(10000, 28, 28)\n",
      "(10000, 10)\n"
     ]
    }
   ],
   "source": [
    "from tensorflow.examples.tutorials.mnist import input_data\n",
    "mnist = input_data.read_data_sets('MNIST_data', one_hot=True)\n",
    "\n",
    "trainX = mnist.train.images.reshape((-1,28,28)) # convert from (batch, 784) to (batch, 28, 28) to make ordinary images\n",
    "trainY = mnist.train.labels\n",
    "\n",
    "testX = mnist.test.images.reshape((-1,28,28))\n",
    "testY = mnist.test.labels\n",
    "\n",
    "print(trainX.shape)\n",
    "print(trainY.shape)\n",
    "print(testX.shape)\n",
    "print(testY.shape)\n"
   ]
  },
  {
   "cell_type": "code",
   "execution_count": 3,
   "metadata": {
    "collapsed": true
   },
   "outputs": [],
   "source": [
    "import matplotlib.pyplot as plt\n",
    "%matplotlib inline\n",
    "\n",
    "def show_img(sample):\n",
    "    pixels = np.array(sample, dtype = 'float32')\n",
    "    #\n",
    "    plt.imshow(pixels)\n",
    "    plt.show()\n",
    "    "
   ]
  },
  {
   "cell_type": "code",
   "execution_count": 4,
   "metadata": {},
   "outputs": [
    {
     "data": {
      "image/png": "[encoded data removed]",
      "text/plain": [
       "<Figure size 432x288 with 1 Axes>"
      ]
     },
     "metadata": {},
     "output_type": "display_data"
    },
    {
     "name": "stdout",
     "output_type": "stream",
     "text": [
      "[0. 0. 0. 0. 0. 0. 0. 1. 0. 0.]\n"
     ]
    },
    {
     "data": {
      "image/png": "[encoded data removed]",
      "text/plain": [
       "<Figure size 432x288 with 1 Axes>"
      ]
     },
     "metadata": {},
     "output_type": "display_data"
    },
    {
     "name": "stdout",
     "output_type": "stream",
     "text": [
      "[0. 1. 0. 0. 0. 0. 0. 0. 0. 0.]\n"
     ]
    },
    {
     "data": {
      "image/png": "[encoded data removed]",
      "text/plain": [
       "<Figure size 432x288 with 1 Axes>"
      ]
     },
     "metadata": {},
     "output_type": "display_data"
    },
    {
     "name": "stdout",
     "output_type": "stream",
     "text": [
      "[0. 0. 0. 0. 0. 0. 1. 0. 0. 0.]\n"
     ]
    },
    {
     "data": {
      "image/png": "[encoded data removed]",
      "text/plain": [
       "<Figure size 432x288 with 1 Axes>"
      ]
     },
     "metadata": {},
     "output_type": "display_data"
    },
    {
     "name": "stdout",
     "output_type": "stream",
     "text": [
      "[0. 0. 0. 0. 0. 1. 0. 0. 0. 0.]\n"
     ]
    },
    {
     "data": {
      "image/png": "[encoded data removed]",
      "text/plain": [
       "<Figure size 432x288 with 1 Axes>"
      ]
     },
     "metadata": {},
     "output_type": "display_data"
    },
    {
     "name": "stdout",
     "output_type": "stream",
     "text": [
      "[0. 0. 0. 1. 0. 0. 0. 0. 0. 0.]\n"
     ]
    },
    {
     "data": {
      "image/png": "[encoded data removed]",
      "text/plain": [
       "<Figure size 432x288 with 1 Axes>"
      ]
     },
     "metadata": {},
     "output_type": "display_data"
    },
    {
     "name": "stdout",
     "output_type": "stream",
     "text": [
      "[0. 0. 0. 0. 0. 0. 0. 1. 0. 0.]\n"
     ]
    },
    {
     "data": {
      "image/png": "[encoded data removed]",
      "text/plain": [
       "<Figure size 432x288 with 1 Axes>"
      ]
     },
     "metadata": {},
     "output_type": "display_data"
    },
    {
     "name": "stdout",
     "output_type": "stream",
     "text": [
      "[1. 0. 0. 0. 0. 0. 0. 0. 0. 0.]\n"
     ]
    },
    {
     "data": {
      "image/png": "[encoded data removed]",
      "text/plain": [
       "<Figure size 432x288 with 1 Axes>"
      ]
     },
     "metadata": {},
     "output_type": "display_data"
    },
    {
     "name": "stdout",
     "output_type": "stream",
     "text": [
      "[0. 0. 0. 0. 0. 0. 0. 0. 1. 0.]\n"
     ]
    },
    {
     "data": {
      "image/png": "[encoded data removed]",
      "text/plain": [
       "<Figure size 432x288 with 1 Axes>"
      ]
     },
     "metadata": {},
     "output_type": "display_data"
    },
    {
     "name": "stdout",
     "output_type": "stream",
     "text": [
      "[0. 0. 0. 1. 0. 0. 0. 0. 0. 0.]\n"
     ]
    },
    {
     "data": {
      "image/png": "[encoded data removed]",
      "text/plain": [
       "<Figure size 432x288 with 1 Axes>"
      ]
     },
     "metadata": {},
     "output_type": "display_data"
    },
    {
     "name": "stdout",
     "output_type": "stream",
     "text": [
      "[0. 0. 0. 0. 1. 0. 0. 0. 0. 0.]\n"
     ]
    },
    {
     "data": {
      "image/png": "[encoded data removed]",
      "text/plain": [
       "<Figure size 432x288 with 1 Axes>"
      ]
     },
     "metadata": {},
     "output_type": "display_data"
    },
    {
     "name": "stdout",
     "output_type": "stream",
     "text": [
      "[0. 0. 0. 0. 0. 0. 0. 0. 1. 0.]\n"
     ]
    },
    {
     "data": {
      "image/png": "[encoded data removed]",
      "text/plain": [
       "<Figure size 432x288 with 1 Axes>"
      ]
     },
     "metadata": {},
     "output_type": "display_data"
    },
    {
     "name": "stdout",
     "output_type": "stream",
     "text": [
      "[0. 0. 0. 0. 0. 0. 0. 0. 1. 0.]\n"
     ]
    },
    {
     "data": {
      "image/png": "[encoded data removed]",
      "text/plain": [
       "<Figure size 432x288 with 1 Axes>"
      ]
     },
     "metadata": {},
     "output_type": "display_data"
    },
    {
     "name": "stdout",
     "output_type": "stream",
     "text": [
      "[0. 0. 0. 0. 0. 1. 0. 0. 0. 0.]\n"
     ]
    },
    {
     "data": {
      "image/png": "[encoded data removed]",
      "text/plain": [
       "<Figure size 432x288 with 1 Axes>"
      ]
     },
     "metadata": {},
     "output_type": "display_data"
    },
    {
     "name": "stdout",
     "output_type": "stream",
     "text": [
      "[0. 0. 0. 0. 0. 0. 1. 0. 0. 0.]\n"
     ]
    },
    {
     "data": {
      "image/png": "[encoded data removed]",
      "text/plain": [
       "<Figure size 432x288 with 1 Axes>"
      ]
     },
     "metadata": {},
     "output_type": "display_data"
    },
    {
     "name": "stdout",
     "output_type": "stream",
     "text": [
      "[0. 0. 0. 0. 0. 0. 0. 1. 0. 0.]\n"
     ]
    },
    {
     "data": {
      "image/png": "[encoded data removed]",
      "text/plain": [
       "<Figure size 432x288 with 1 Axes>"
      ]
     },
     "metadata": {},
     "output_type": "display_data"
    },
    {
     "name": "stdout",
     "output_type": "stream",
     "text": [
      "[0. 0. 0. 0. 0. 0. 0. 1. 0. 0.]\n"
     ]
    },
    {
     "data": {
      "image/png": "[encoded data removed]",
      "text/plain": [
       "<Figure size 432x288 with 1 Axes>"
      ]
     },
     "metadata": {},
     "output_type": "display_data"
    },
    {
     "name": "stdout",
     "output_type": "stream",
     "text": [
      "[0. 0. 0. 0. 0. 0. 0. 0. 0. 1.]\n"
     ]
    },
    {
     "data": {
      "image/png": "[encoded data removed]",
      "text/plain": [
       "<Figure size 432x288 with 1 Axes>"
      ]
     },
     "metadata": {},
     "output_type": "display_data"
    },
    {
     "name": "stdout",
     "output_type": "stream",
     "text": [
      "[1. 0. 0. 0. 0. 0. 0. 0. 0. 0.]\n"
     ]
    },
    {
     "data": {
      "image/png": "[encoded data removed]",
      "text/plain": [
       "<Figure size 432x288 with 1 Axes>"
      ]
     },
     "metadata": {},
     "output_type": "display_data"
    },
    {
     "name": "stdout",
     "output_type": "stream",
     "text": [
      "[0. 0. 0. 0. 0. 0. 0. 0. 1. 0.]\n"
     ]
    },
    {
     "data": {
      "image/png": "[encoded data removed]",
      "text/plain": [
       "<Figure size 432x288 with 1 Axes>"
      ]
     },
     "metadata": {},
     "output_type": "display_data"
    },
    {
     "name": "stdout",
     "output_type": "stream",
     "text": [
      "[0. 0. 1. 0. 0. 0. 0. 0. 0. 0.]\n"
     ]
    }
   ],
   "source": [
    "for i in range(20):\n",
    "    show_img(trainX[i*20, :])\n",
    "    print (trainY[i*20])"
   ]
  },
  {
   "cell_type": "code",
   "execution_count": 5,
   "metadata": {},
   "outputs": [
    {
     "name": "stdout",
     "output_type": "stream",
     "text": [
      "55000 28 28 10\n"
     ]
    }
   ],
   "source": [
    "example_num, input_n, input_m = trainX.shape\n",
    "output_num = len(trainY[0,:])\n",
    "print(example_num, input_n, input_m, output_num)"
   ]
  },
  {
   "cell_type": "code",
   "execution_count": 6,
   "metadata": {
    "collapsed": true
   },
   "outputs": [],
   "source": [
    "# here we operate with 4D objects (called here tensor) and most functions are vector-functions\n",
    "# first dimenstion correspond to batch\n",
    "\n",
    "# placeholder is a special tf-type. It means that you will 'place' a data to it in runtime.\n",
    "# we have to specify a shape and a type only.\n",
    "# we can leave first shape as None. It means batch size will be specified at runtime\n",
    "x = tf.placeholder(tf.float32, shape=(None, input_n, input_m), name='x') # don't rename it\n",
    "y = tf.placeholder(tf.float32, shape=(None, output_num), name='y') # don't rename it\n",
    "\n",
    "# make shape 4d; (batch, size, size) -> (batch, size, size, channel). It's requred by conv op\n",
    "x_4D = tf.expand_dims(x, axis=3)\n",
    "\n",
    "#MODEL DEFINITIAN.\n",
    "#You are able to chage filter sizes, filter numbers, initialization (truncated normal, zeros, here), activation func, etc\n",
    "#You can add new layers, but you should explain me why you added it.\n",
    "\n",
    "#init stats\n",
    "mu = 0.0\n",
    "sigma = 0.1\n",
    "\n",
    "# convolution. see https://www.tensorflow.org/api_docs/python/tf/nn/conv2d\n",
    "\n",
    "# Layer 1: Convolutional. Input = 28x28x1. Output = 20x20x6.\n",
    "conv1_w = tf.Variable(tf.truncated_normal(shape = [7,7,1,6],mean = mu, stddev = sigma))\n",
    "conv1_b = tf.Variable(tf.zeros(6))\n",
    "conv1 = tf.nn.conv2d(x_4D,conv1_w, strides = [1,1,1,1], padding = 'SAME') + conv1_b \n",
    "# TODO: Activation.\n",
    "conv1 = tf.nn.relu(conv1)\n",
    "\n",
    "# Pooling. Input = 20x20x6. Output = 10x10x6.\n",
    "pool_1 = tf.nn.max_pool(conv1,ksize = [1,2,2,1], strides = [1,2,2,1], padding = 'VALID')\n",
    "\n",
    "# Layer 2: Convolutional.Sizes ________(write here)\n",
    "conv2_w = tf.Variable(tf.truncated_normal(shape = [5,5,6,8],mean = mu, stddev = sigma))\n",
    "conv2_b = tf.Variable(tf.zeros(8))\n",
    "conv2 = tf.nn.conv2d(pool_1,conv2_w, strides = [1,1,1,1], padding = 'VALID') + conv2_b \n",
    "#  Activation.\n",
    "conv2 = tf.nn.relu(conv2)\n",
    "\n",
    "# TODO: Pooling. Sizes ________(write here)\n",
    "pool_2 = tf.nn.max_pool(conv2,ksize = [1,2,2,1], strides = [1,2,2,1], padding = 'VALID')\n",
    "\n",
    "\n",
    "#make it flatten \n",
    "flat = tf.contrib.layers.flatten(pool_2)\n",
    "\n",
    "# Layer 4: Fully-connected. Sizes _________ (write here)\n",
    "# layers from tf.contrib is high-level. You don't need to define weights, biases, etc manually  :)\n",
    "fc1 = tf.contrib.layers.fully_connected(flat, 100)\n",
    "\n",
    "#https://www.tensorflow.org/api_docs/python/tf/nn/dropout\n",
    "# dropuout is a kind of regularization. # regularization prevents from overfitting\n",
    "# use placeholder for change behavier in train-time and inference-time\n",
    "keep_prob = tf.placeholder(tf.float32, shape=(), name='keep_prob')\n",
    "fc1 = tf.contrib.layers.dropout(fc1, keep_prob=keep_prob)\n",
    "\n",
    "#none means no activation function. it's needed for stability in cross-entropy.\n",
    "y_pred = tf.contrib.layers.fully_connected(flat, output_num, activation_fn=None)\n",
    "\n",
    "# cross-Entropy loss\n",
    "#cost = -tf.reduce_mean(tf.reduce_sum((y*tf.log(y_pred)+(1-y)*tf.log(1-y_pred)), reduction_indices=1))\n",
    "# see https://www.tensorflow.org/api_docs/python/tf/nn/softmax_cross_entropy_with_logits_v2\n",
    "cost = tf.reduce_mean(tf.nn.softmax_cross_entropy_with_logits_v2(labels=y, logits=y_pred))\n",
    "\n",
    "# Regularization. You can penalti model by adding additional member to your loss function(cost)\n",
    "# popular regularization is L2 called weight decay, L1, and L1 + L2 called Lasso\n",
    "# regularization prevents from overfitting\n",
    "# tf.trainable_variables() - list of all variables\n",
    "#cost = cost + some_norm_from(weights) \n",
    "\n",
    "lr = 0.01 # learning rate\n",
    "optimizer = tf.train.GradientDescentOptimizer(lr)\n",
    "update = optimizer.minimize(cost)\n",
    "\n",
    "pred = tf.cast(tf.equal(tf.argmax(y_pred,1), tf.argmax(y,1)), tf.float32)\n",
    "acc = tf.reduce_mean(pred) # don't rename this op\n",
    "\n",
    "\n"
   ]
  },
  {
   "cell_type": "code",
   "execution_count": 22,
   "metadata": {},
   "outputs": [
    {
     "name": "stdout",
     "output_type": "stream",
     "text": [
      "epoch: 0 error:2.135970, acc_train: 0.258050\n",
      "acc_test:0.612300\n",
      "epoch: 1 error:0.790342, acc_train: 0.786379\n",
      "acc_test:0.874500\n",
      "epoch: 2 error:0.400475, acc_train: 0.883634\n",
      "acc_test:0.904400\n",
      "epoch: 3 error:0.324852, acc_train: 0.904315\n",
      "acc_test:0.918400\n",
      "epoch: 4 error:0.283701, acc_train: 0.916381\n",
      "acc_test:0.929000\n",
      "epoch: 5 error:0.254737, acc_train: 0.925307\n",
      "acc_test:0.936700\n",
      "epoch: 6 error:0.232440, acc_train: 0.932079\n",
      "acc_test:0.941600\n",
      "epoch: 7 error:0.214493, acc_train: 0.937062\n",
      "acc_test:0.946600\n",
      "epoch: 8 error:0.199668, acc_train: 0.941224\n",
      "acc_test:0.950300\n",
      "epoch: 9 error:0.187231, acc_train: 0.944674\n",
      "acc_test:0.952000\n",
      "epoch: 10 error:0.176652, acc_train: 0.947795\n",
      "acc_test:0.954200\n",
      "epoch: 11 error:0.167505, acc_train: 0.950277\n",
      "acc_test:0.956400\n",
      "epoch: 12 error:0.159536, acc_train: 0.952486\n",
      "acc_test:0.957400\n",
      "epoch: 13 error:0.152526, acc_train: 0.954768\n",
      "acc_test:0.958600\n",
      "epoch: 14 error:0.146319, acc_train: 0.956411\n",
      "acc_test:0.959800\n",
      "epoch: 15 error:0.140787, acc_train: 0.958327\n",
      "acc_test:0.961300\n",
      "epoch: 16 error:0.135828, acc_train: 0.959696\n",
      "acc_test:0.962500\n",
      "epoch: 17 error:0.131344, acc_train: 0.961193\n",
      "acc_test:0.963400\n",
      "epoch: 18 error:0.127269, acc_train: 0.962818\n",
      "acc_test:0.964500\n",
      "epoch: 19 error:0.123526, acc_train: 0.963803\n",
      "acc_test:0.965400\n",
      "optimization done\n"
     ]
    }
   ],
   "source": [
    "#Train!\n",
    "# don't use test data here\n",
    "\n",
    "# we should split the data into mini-batches.\n",
    "# little batch is better but slower\n",
    "# big bacth is faster and little bit worse. And limited by your GPU memory\n",
    "batch_size = 256\n",
    "epocs=20 # 1 epoch is view of all elements in dataset 1 time\n",
    "batch_num = int(example_num/batch_size) # here we loose a rest of batch you can add it\n",
    "\n",
    "session.run(tf.global_variables_initializer()) # it's necessary\n",
    "\n",
    "\n",
    "for epoch in range(epocs):\n",
    "    err = 0\n",
    "    acc_train_ = 0.0\n",
    "\n",
    "    for batch in range(batch_num):\n",
    "        # extract a batch\n",
    "        batch_x = trainX[batch*batch_size : batch*batch_size + batch_size]\n",
    "        batch_y = trainY[batch*batch_size : batch*batch_size + batch_size]\n",
    "        \n",
    "        # a key operation. Run 'operations' and place data in placeholders 'x' and 'y'\n",
    "        _, err_, acc_train = session.run([update, cost, acc], feed_dict={x:batch_x, y:batch_y, keep_prob:0.95})\n",
    "        err += err_\n",
    "        acc_train_ += acc_train\n",
    "    err /= batch_num\n",
    "    acc_train_ /= batch_num\n",
    "\n",
    "    print(\"epoch: %d error:%f, acc_train: %f\" % (epoch, err, acc_train_))\n",
    "    \n",
    "    acc_test = session.run([acc], feed_dict={x:testX, y:testY})\n",
    "    print('acc_test:%f'%acc_test[0])\n",
    "\n",
    "print(\"optimization done\")\n",
    "\n",
    "\n"
   ]
  },
  {
   "cell_type": "code",
   "execution_count": 23,
   "metadata": {},
   "outputs": [
    {
     "name": "stdout",
     "output_type": "stream",
     "text": [
      "acc:0.965400\n"
     ]
    }
   ],
   "source": [
    "# Test!\n",
    "# don't change these line\n",
    "\n",
    "acc_test = session.run([acc], feed_dict={x:testX, y:testY})\n",
    "print('acc:%f'%acc_test[0])"
   ]
  },
  {
   "cell_type": "code",
   "execution_count": null,
   "metadata": {
    "collapsed": true
   },
   "outputs": [],
   "source": []
  }
 ],
 "metadata": {
  "kernelspec": {
   "display_name": "Python 3",
   "language": "python",
   "name": "python3"
  },
  "language_info": {
   "codemirror_mode": {
    "name": "ipython",
    "version": 3
   },
   "file_extension": ".py",
   "mimetype": "text/x-python",
   "name": "python",
   "nbconvert_exporter": "python",
   "pygments_lexer": "ipython3",
   "version": "3.6.4"
  }
 },
 "nbformat": 4,
 "nbformat_minor": 2
}
